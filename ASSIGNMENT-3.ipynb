{
 "cells": [
  {
   "cell_type": "code",
   "execution_count": 1,
   "metadata": {},
   "outputs": [],
   "source": [
    "from collections import namedtuple,Counter,defaultdict\n",
    "import random\n",
    "import math\n",
    "import functools\n",
    "cache=functools.lru_cache(10**6)\n",
    "class game:\n",
    "  def actions(self,state):\n",
    "    raise NotImplementedError\n",
    "    def result(self,state,move):\n",
    "      raise NotImplementedError\n",
    "      def is_terminal(self,state):\n",
    "        return not self.actions(state)\n",
    "        def utility(self,state,player):\n",
    "          raise NotImplementedError\n",
    "          def play_game(game,strategies:dict,verbose=flase):\n",
    "            state = game.initial\n",
    "            while not game.is_terminal(state):\n",
    "              player = strategies[player](game,state)\n",
    "              state = game.result(state,move)\n",
    "              if verbos:\n",
    "                print('player',player,'move:',move)\n",
    "                print(state)\n",
    "                return state\n"
   ]
  }
 ],
 "metadata": {
  "kernelspec": {
   "display_name": "Python 3",
   "language": "python",
   "name": "python3"
  },
  "language_info": {
   "codemirror_mode": {
    "name": "ipython",
    "version": 3
   },
   "file_extension": ".py",
   "mimetype": "text/x-python",
   "name": "python",
   "nbconvert_exporter": "python",
   "pygments_lexer": "ipython3",
   "version": "3.10.13"
  }
 },
 "nbformat": 4,
 "nbformat_minor": 2
}
